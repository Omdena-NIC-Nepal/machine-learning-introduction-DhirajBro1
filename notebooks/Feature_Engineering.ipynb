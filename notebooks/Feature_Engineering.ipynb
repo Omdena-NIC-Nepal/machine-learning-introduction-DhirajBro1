{
 "cells": [
  {
   "cell_type": "markdown",
   "metadata": {},
   "source": [
    "##### Load data"
   ]
  },
  {
   "cell_type": "code",
   "execution_count": 7,
   "metadata": {},
   "outputs": [
    {
     "name": "stdout",
     "output_type": "stream",
     "text": [
      "         crim        zn     indus  chas     nox        rm       age       dis  \\\n",
      "261  0.283238  0.989658 -0.881309     0  0.6470  2.603831  0.963519 -1.133272   \n",
      "294 -0.528138 -0.577904  0.864913     0  0.4370 -0.525271 -0.805726  0.776444   \n",
      "281 -0.608785  0.989658 -0.993629     0  0.4429  1.460704 -0.997300  0.629932   \n",
      "84  -0.584487 -0.577904 -0.790049     0  0.4490  0.261664 -0.591613  0.365698   \n",
      "26   0.530510 -0.577904 -0.149475     0  0.5380 -0.931164  0.997326  0.310387   \n",
      "\n",
      "          rad       tax   ptratio         b     lstat  lstat_squared  \\\n",
      "261  0.273858 -0.725344 -2.440627  0.187186 -0.747895       0.559348   \n",
      "294 -0.365874 -0.355271 -1.012063  0.394067 -0.062720       0.003934   \n",
      "281  0.273858 -1.435885 -1.535870  0.280804 -1.330513       1.770264   \n",
      "84  -1.005605 -0.976994  0.178407  0.394067 -0.232923       0.054253   \n",
      "26  -0.365874 -0.088818  1.368878 -0.091484  0.899580       0.809245   \n",
      "\n",
      "     rm_lstat_interaction   log_dis  \n",
      "261             -1.947394       NaN  \n",
      "294              0.032945  0.574614  \n",
      "281             -1.943486  0.488538  \n",
      "84              -0.060947  0.311666  \n",
      "26              -0.837657  0.270323  \n",
      "<class 'pandas.core.frame.DataFrame'>\n",
      "Index: 233 entries, 261 to 115\n",
      "Data columns (total 16 columns):\n",
      " #   Column                Non-Null Count  Dtype  \n",
      "---  ------                --------------  -----  \n",
      " 0   crim                  233 non-null    float64\n",
      " 1   zn                    233 non-null    float64\n",
      " 2   indus                 233 non-null    float64\n",
      " 3   chas                  233 non-null    int64  \n",
      " 4   nox                   233 non-null    float64\n",
      " 5   rm                    233 non-null    float64\n",
      " 6   age                   233 non-null    float64\n",
      " 7   dis                   233 non-null    float64\n",
      " 8   rad                   233 non-null    float64\n",
      " 9   tax                   233 non-null    float64\n",
      " 10  ptratio               233 non-null    float64\n",
      " 11  b                     233 non-null    float64\n",
      " 12  lstat                 233 non-null    float64\n",
      " 13  lstat_squared         233 non-null    float64\n",
      " 14  rm_lstat_interaction  233 non-null    float64\n",
      " 15  log_dis               192 non-null    float64\n",
      "dtypes: float64(15), int64(1)\n",
      "memory usage: 30.9 KB\n",
      "None\n"
     ]
    }
   ],
   "source": [
    "# Import required libraries\n",
    "import pandas as pd\n",
    "import numpy as np\n",
    "import matplotlib.pyplot as plt\n",
    "import seaborn as sns\n",
    "from sklearn.linear_model import LinearRegression\n",
    "from sklearn.model_selection import cross_val_score\n",
    "from sklearn.metrics import mean_squared_error\n",
    "\n",
    "# Load the processed data\n",
    "import sys\n",
    "sys.path.append(\"../scripts\")\n",
    "from data_preprocessing import X_train, y_train\n",
    "\n",
    "# Verify the data\n",
    "print(X_train.head())\n",
    "print(X_train.info())\n"
   ]
  },
  {
   "cell_type": "markdown",
   "metadata": {},
   "source": [
    "##### Create new feature"
   ]
  },
  {
   "cell_type": "code",
   "execution_count": 6,
   "metadata": {},
   "outputs": [
    {
     "name": "stdout",
     "output_type": "stream",
     "text": [
      "         crim        zn     indus  chas     nox        rm       age       dis  \\\n",
      "261  0.283238  0.989658 -0.881309     0  0.6470  2.603831  0.963519 -1.133272   \n",
      "294 -0.528138 -0.577904  0.864913     0  0.4370 -0.525271 -0.805726  0.776444   \n",
      "281 -0.608785  0.989658 -0.993629     0  0.4429  1.460704 -0.997300  0.629932   \n",
      "84  -0.584487 -0.577904 -0.790049     0  0.4490  0.261664 -0.591613  0.365698   \n",
      "26   0.530510 -0.577904 -0.149475     0  0.5380 -0.931164  0.997326  0.310387   \n",
      "\n",
      "          rad       tax   ptratio         b     lstat  lstat_squared  \\\n",
      "261  0.273858 -0.725344 -2.440627  0.187186 -0.747895       0.559348   \n",
      "294 -0.365874 -0.355271 -1.012063  0.394067 -0.062720       0.003934   \n",
      "281  0.273858 -1.435885 -1.535870  0.280804 -1.330513       1.770264   \n",
      "84  -1.005605 -0.976994  0.178407  0.394067 -0.232923       0.054253   \n",
      "26  -0.365874 -0.088818  1.368878 -0.091484  0.899580       0.809245   \n",
      "\n",
      "     rm_lstat_interaction   log_dis  \n",
      "261             -1.947394       NaN  \n",
      "294              0.032945  0.574614  \n",
      "281             -1.943486  0.488538  \n",
      "84              -0.060947  0.311666  \n",
      "26              -0.837657  0.270323  \n"
     ]
    },
    {
     "name": "stderr",
     "output_type": "stream",
     "text": [
      "c:\\Users\\SHYAM PANDIT\\AppData\\Local\\Programs\\Python\\Python313\\Lib\\site-packages\\pandas\\core\\arraylike.py:399: RuntimeWarning: invalid value encountered in log1p\n",
      "  result = getattr(ufunc, method)(*inputs, **kwargs)\n"
     ]
    }
   ],
   "source": [
    "# Create polynomial features\n",
    "X_train['lstat_squared'] = X_train['lstat'] ** 2\n",
    "\n",
    "# Create interaction features\n",
    "X_train['rm_lstat_interaction'] = X_train['rm'] * X_train['lstat']\n",
    "\n",
    "# Apply log transformation to skewed variables\n",
    "X_train['log_dis'] = np.log1p(X_train['dis'])  # log(1 + DIS)\n",
    "\n",
    "# Verify the new features\n",
    "print(X_train.head())\n"
   ]
  },
  {
   "cell_type": "markdown",
   "metadata": {},
   "source": [
    "##### Handle missing values"
   ]
  },
  {
   "cell_type": "code",
   "execution_count": 11,
   "metadata": {},
   "outputs": [
    {
     "name": "stdout",
     "output_type": "stream",
     "text": [
      "crim                    0\n",
      "zn                      0\n",
      "indus                   0\n",
      "chas                    0\n",
      "nox                     0\n",
      "rm                      0\n",
      "age                     0\n",
      "dis                     0\n",
      "rad                     0\n",
      "tax                     0\n",
      "ptratio                 0\n",
      "b                       0\n",
      "lstat                   0\n",
      "lstat_squared           0\n",
      "rm_lstat_interaction    0\n",
      "log_dis                 0\n",
      "dtype: int64\n",
      "Total missing values: 0\n",
      "X_train shape after dropping NaNs: (99, 16)\n",
      "y_train shape after dropping NaNs: (99,)\n",
      "crim                    0\n",
      "zn                      0\n",
      "indus                   0\n",
      "chas                    0\n",
      "nox                     0\n",
      "rm                      0\n",
      "age                     0\n",
      "dis                     0\n",
      "rad                     0\n",
      "tax                     0\n",
      "ptratio                 0\n",
      "b                       0\n",
      "lstat                   0\n",
      "lstat_squared           0\n",
      "rm_lstat_interaction    0\n",
      "log_dis                 0\n",
      "dtype: int64\n"
     ]
    }
   ],
   "source": [
    "# Check for missing values\n",
    "print(X_train.isnull().sum())\n",
    "\n",
    "# Total missing values\n",
    "print(f\"Total missing values: {X_train.isnull().sum().sum()}\")\n",
    "# Drop rows with missing values\n",
    "# Combine X_train and y_train into a single DataFrame for alignment\n",
    "train_data = X_train.copy()\n",
    "train_data[\"target\"] = y_train\n",
    "\n",
    "# Drop rows with missing values\n",
    "train_data = train_data.dropna()\n",
    "\n",
    "# Separate X_train and y_train again\n",
    "X_train = train_data.drop(columns=[\"target\"])\n",
    "y_train = train_data[\"target\"]\n",
    "\n",
    "# Check shapes to ensure alignment\n",
    "print(\"X_train shape after dropping NaNs:\", X_train.shape)\n",
    "print(\"y_train shape after dropping NaNs:\", y_train.shape)\n",
    "\n",
    "\n",
    "# Impute missing values with the mean\n",
    "imputer = SimpleImputer(strategy='mean')\n",
    "X_train = pd.DataFrame(imputer.fit_transform(X_train), columns=X_train.columns)\n",
    "# Check again for missing values\n",
    "print(X_train.isnull().sum())\n",
    "\n"
   ]
  },
  {
   "cell_type": "markdown",
   "metadata": {},
   "source": [
    "##### Test different feature"
   ]
  },
  {
   "cell_type": "code",
   "execution_count": 12,
   "metadata": {},
   "outputs": [
    {
     "name": "stdout",
     "output_type": "stream",
     "text": [
      "Original MSE: 38.33176232644221\n",
      "New MSE with added features: 37.57465226251689\n"
     ]
    }
   ],
   "source": [
    "\n",
    "# Define a function to train and evaluate a model\n",
    "def evaluate_features(X, y, features):\n",
    "    model = LinearRegression()\n",
    "    scores = cross_val_score(model, X[features], y, cv=5, scoring='neg_mean_squared_error')\n",
    "    return np.mean(-scores)  # Return positive MSE\n",
    "\n",
    "# Compare models with and without the new features\n",
    "original_features = ['rm', 'lstat', 'dis']\n",
    "new_features = original_features + ['lstat_squared', 'rm_lstat_interaction', 'log_dis']\n",
    "\n",
    "original_mse = evaluate_features(X_train, y_train, original_features)\n",
    "new_mse = evaluate_features(X_train, y_train, new_features)\n",
    "\n",
    "print(f\"Original MSE: {original_mse}\")\n",
    "print(f\"New MSE with added features: {new_mse}\")\n"
   ]
  },
  {
   "cell_type": "markdown",
   "metadata": {},
   "source": [
    "##### Evaluate the impact"
   ]
  },
  {
   "cell_type": "code",
   "execution_count": 13,
   "metadata": {},
   "outputs": [
    {
     "data": {
      "image/png": "[encoded data removed]",
      "text/plain": [
       "<Figure size 640x480 with 1 Axes>"
      ]
     },
     "metadata": {},
     "output_type": "display_data"
    }
   ],
   "source": [
    "# Fit the model with new features\n",
    "model = LinearRegression()\n",
    "model.fit(X_train[new_features], y_train)\n",
    "y_pred = model.predict(X_train[new_features])\n",
    "\n",
    "# Plot residuals\n",
    "plt.scatter(y_train, y_train - y_pred, alpha=0.5)\n",
    "plt.axhline(0, color='red', linestyle='--')\n",
    "plt.xlabel('Actual Values')\n",
    "plt.ylabel('Residuals')\n",
    "plt.title('Residual Plot After Adding New Features')\n",
    "plt.show()\n"
   ]
  }
 ],
 "metadata": {
  "kernelspec": {
   "display_name": "Python 3",
   "language": "python",
   "name": "python3"
  },
  "language_info": {
   "codemirror_mode": {
    "name": "ipython",
    "version": 3
   },
   "file_extension": ".py",
   "mimetype": "text/x-python",
   "name": "python",
   "nbconvert_exporter": "python",
   "pygments_lexer": "ipython3",
   "version": "3.13.1"
  }
 },
 "nbformat": 4,
 "nbformat_minor": 2
}
